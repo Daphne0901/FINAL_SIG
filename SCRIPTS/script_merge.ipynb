{
 "cells": [
  {
   "cell_type": "markdown",
   "id": "20a4a343",
   "metadata": {},
   "source": [
    "Descargar cuadriculas de curvas de nivel, luego unir con merge. Use código en\n",
    "Python.\n",
    "Use el enlace para descargar el mapa de cuencas y extraiga un shapefile de\n",
    "una cuenca.\n",
    "Elabore un código en Python para recortar el shp de la cuenca de la curva de\n",
    "nivel unida .Usando código Python obtenga el TIN para la cuenca."
   ]
  },
  {
   "cell_type": "code",
   "execution_count": 2,
   "id": "910560a7",
   "metadata": {},
   "outputs": [
    {
     "name": "stdout",
     "output_type": "stream",
     "text": [
      "Requirement already satisfied: geopandas in c:\\users\\daphne\\anaconda3\\envs\\sigoficial\\lib\\site-packages (0.12.2)\n",
      "Requirement already satisfied: packaging in c:\\users\\daphne\\anaconda3\\envs\\sigoficial\\lib\\site-packages (from geopandas) (22.0)\n",
      "Requirement already satisfied: pandas>=1.0.0 in c:\\users\\daphne\\anaconda3\\envs\\sigoficial\\lib\\site-packages (from geopandas) (1.5.2)\n",
      "Requirement already satisfied: shapely>=1.7 in c:\\users\\daphne\\anaconda3\\envs\\sigoficial\\lib\\site-packages (from geopandas) (2.0.0)\n",
      "Requirement already satisfied: pyproj>=2.6.1.post1 in c:\\users\\daphne\\anaconda3\\envs\\sigoficial\\lib\\site-packages (from geopandas) (3.4.1)\n",
      "Requirement already satisfied: fiona>=1.8 in c:\\users\\daphne\\anaconda3\\envs\\sigoficial\\lib\\site-packages (from geopandas) (1.8.22)\n",
      "Requirement already satisfied: click>=4.0 in c:\\users\\daphne\\anaconda3\\envs\\sigoficial\\lib\\site-packages (from fiona>=1.8->geopandas) (8.1.3)\n",
      "Requirement already satisfied: munch in c:\\users\\daphne\\anaconda3\\envs\\sigoficial\\lib\\site-packages (from fiona>=1.8->geopandas) (2.5.0)\n",
      "Requirement already satisfied: six>=1.7 in c:\\users\\daphne\\anaconda3\\envs\\sigoficial\\lib\\site-packages (from fiona>=1.8->geopandas) (1.15.0)\n",
      "Requirement already satisfied: cligj>=0.5 in c:\\users\\daphne\\anaconda3\\envs\\sigoficial\\lib\\site-packages (from fiona>=1.8->geopandas) (0.7.2)\n",
      "Requirement already satisfied: attrs>=17 in c:\\users\\daphne\\anaconda3\\envs\\sigoficial\\lib\\site-packages (from fiona>=1.8->geopandas) (22.1.0)\n",
      "Requirement already satisfied: click-plugins>=1.0 in c:\\users\\daphne\\anaconda3\\envs\\sigoficial\\lib\\site-packages (from fiona>=1.8->geopandas) (1.1.1)\n",
      "Requirement already satisfied: certifi in c:\\users\\daphne\\anaconda3\\envs\\sigoficial\\lib\\site-packages (from fiona>=1.8->geopandas) (2022.12.7)\n",
      "Requirement already satisfied: setuptools in c:\\users\\daphne\\anaconda3\\envs\\sigoficial\\lib\\site-packages (from fiona>=1.8->geopandas) (65.6.3)\n",
      "Requirement already satisfied: numpy>=1.20.3 in c:\\users\\daphne\\anaconda3\\envs\\sigoficial\\lib\\site-packages (from pandas>=1.0.0->geopandas) (1.23.5)\n",
      "Requirement already satisfied: python-dateutil>=2.8.1 in c:\\users\\daphne\\anaconda3\\envs\\sigoficial\\lib\\site-packages (from pandas>=1.0.0->geopandas) (2.8.2)\n",
      "Requirement already satisfied: pytz>=2020.1 in c:\\users\\daphne\\anaconda3\\envs\\sigoficial\\lib\\site-packages (from pandas>=1.0.0->geopandas) (2022.7.1)\n",
      "Requirement already satisfied: colorama in c:\\users\\daphne\\anaconda3\\envs\\sigoficial\\lib\\site-packages (from click>=4.0->fiona>=1.8->geopandas) (0.4.6)\n"
     ]
    }
   ],
   "source": [
    "!pip install geopandas"
   ]
  },
  {
   "cell_type": "code",
   "execution_count": 3,
   "id": "89380fd3",
   "metadata": {},
   "outputs": [],
   "source": [
    "import pandas as pd\n",
    "import numpy as np\n",
    "import geopandas as gpd"
   ]
  },
  {
   "cell_type": "code",
   "execution_count": 4,
   "id": "d0327506",
   "metadata": {},
   "outputs": [],
   "source": [
    "import os, glob"
   ]
  },
  {
   "cell_type": "code",
   "execution_count": 8,
   "id": "3e55747d",
   "metadata": {},
   "outputs": [],
   "source": [
    "os.chdir(\"D:\\DATOS_ARCGIS_PRO\\CURVAS_CAPLINA\")"
   ]
  },
  {
   "cell_type": "code",
   "execution_count": 9,
   "id": "a6e99f10",
   "metadata": {},
   "outputs": [
    {
     "data": {
      "text/plain": [
       "['36v-curvas.shp', '36x-curvas.shp', '37u-curvas.shp', '37v-curvas.shp']"
      ]
     },
     "execution_count": 9,
     "metadata": {},
     "output_type": "execute_result"
    }
   ],
   "source": [
    "lista = glob.glob(\"*.shp\")\n",
    "lista"
   ]
  },
  {
   "cell_type": "code",
   "execution_count": 10,
   "id": "8c99d56a",
   "metadata": {},
   "outputs": [],
   "source": [
    "lista_shp = []\n",
    "for i in lista:\n",
    "    shp = gpd.read_file(i)\n",
    "    lista_shp.append(shp)"
   ]
  },
  {
   "cell_type": "code",
   "execution_count": 11,
   "id": "e147235d",
   "metadata": {},
   "outputs": [
    {
     "data": {
      "text/plain": [
       "[         Z CODIGO                                           geometry\n",
       " 0     1800   2835  LINESTRING (341276.420 8064508.280, 341232.330...\n",
       " 1     2200   2835  LINESTRING (342432.510 8061478.820, 342503.760...\n",
       " 2     2000   2835  LINESTRING (352862.790 8063223.210, 352945.280...\n",
       " 3     1800   2835  LINESTRING (354323.210 8064606.470, 354321.140...\n",
       " 4     2000   2835  LINESTRING (354600.570 8064608.470, 354601.700...\n",
       " ...    ...    ...                                                ...\n",
       " 1390  1400   2835  LINESTRING (389179.390 8009501.590, 389222.990...\n",
       " 1391   775   2835  LINESTRING (369977.070 8012855.140, 370012.240...\n",
       " 1392   825   2835  LINESTRING (375977.690 8009542.390, 376099.030...\n",
       " 1393   600   2835  LINESTRING (368623.520 8009374.770, 368616.330...\n",
       " 1394  1925   2835  LINESTRING (368299.790 8042732.590, 368346.620...\n",
       " \n",
       " [1395 rows x 3 columns],\n",
       "         Z CODIGO                                           geometry\n",
       " 0    4000   2935  LINESTRING (393841.120 8064372.630, 393901.320...\n",
       " 1    3800   2935  LINESTRING (396663.000 8064867.110, 396657.340...\n",
       " 2    3400   2935  LINESTRING (393865.830 8059574.140, 393947.200...\n",
       " 3    3600   2935  LINESTRING (394088.140 8059146.440, 394305.090...\n",
       " 4    2200   2935  LINESTRING (394504.810 8011168.310, 394478.570...\n",
       " ..    ...    ...                                                ...\n",
       " 993  4500   2935  LINESTRING (406984.297 8037292.553, 406954.547...\n",
       " 994  4450   2935  LINESTRING (423621.164 8056339.479, 423602.747...\n",
       " 995  4600   2935  LINESTRING (403996.343 8054784.252, 403965.114...\n",
       " 996  2100   2935  LINESTRING (394131.420 8009821.660, 394254.860...\n",
       " 997  2150   2935  LINESTRING (395418.640 8009535.831, 395422.336...\n",
       " \n",
       " [998 rows x 3 columns],\n",
       "        Z CODIGO                                           geometry\n",
       " 0    400   2734  LINESTRING (328502.820 7997505.510, 328519.920...\n",
       " 1    350   2734  LINESTRING (328958.870 7998456.960, 328958.850...\n",
       " 2    350   2734  LINESTRING (328848.550 7998076.930, 328851.240...\n",
       " 3    200   2734  LINESTRING (330652.150 7989696.840, 330693.210...\n",
       " 4    200   2734  LINESTRING (330496.450 7989602.360, 330525.850...\n",
       " ..   ...    ...                                                ...\n",
       " 148  225   2734  LINESTRING (330861.970 8000347.010, 330902.280...\n",
       " 149  250   2734  LINESTRING (320226.940 8004699.940, 320239.980...\n",
       " 150  350   2734  LINESTRING (326362.737 8000830.049, 326454.300...\n",
       " 151  100   2734  LINESTRING (301072.681 8008806.301, 300980.730...\n",
       " 152  175   2734  LINESTRING (331439.597 7988650.931, 331487.067...\n",
       " \n",
       " [153 rows x 3 columns],\n",
       "         Z CODIGO                                           geometry\n",
       " 0    1000   2834  LINESTRING (383220.930 7958919.390, 383238.910...\n",
       " 1    1000   2834  LINESTRING (384240.410 7957326.530, 384180.590...\n",
       " 2    1200   2834  LINESTRING (394429.730 7955229.970, 394206.330...\n",
       " 3    1350   2834  LINESTRING (394395.870 7961355.920, 394101.110...\n",
       " 4    1400   2834  LINESTRING (393251.950 7961801.230, 393259.660...\n",
       " ..    ...    ...                                                ...\n",
       " 235  1100   2834  LINESTRING (385589.963 7993014.264, 385524.390...\n",
       " 236  1200   2834  LINESTRING (390839.506 7989353.333, 390794.790...\n",
       " 237  1100   2834  LINESTRING (388165.470 7964666.390, 388140.300...\n",
       " 238  1550   2834  LINESTRING (394159.950 8004538.240, 394108.890...\n",
       " 239  1650   2834  MULTILINESTRING ((394128.760 8002021.960, 3941...\n",
       " \n",
       " [240 rows x 3 columns]]"
      ]
     },
     "execution_count": 11,
     "metadata": {},
     "output_type": "execute_result"
    }
   ],
   "source": [
    "lista_shp"
   ]
  },
  {
   "cell_type": "code",
   "execution_count": 12,
   "id": "e9933504",
   "metadata": {},
   "outputs": [],
   "source": [
    "shp_merge = gpd.GeoDataFrame(pd.concat(lista_shp))"
   ]
  },
  {
   "cell_type": "code",
   "execution_count": 14,
   "id": "49112642",
   "metadata": {},
   "outputs": [],
   "source": [
    "shp_merge.to_file(\"Curvas_Caplina.shp\") #se guardara en la ruta que coloque antes"
   ]
  },
  {
   "cell_type": "code",
   "execution_count": 17,
   "id": "0a3c37be",
   "metadata": {},
   "outputs": [
    {
     "data": {
      "text/plain": [
       "<Derived Projected CRS: EPSG:32719>\n",
       "Name: WGS 84 / UTM zone 19S\n",
       "Axis Info [cartesian]:\n",
       "- E[east]: Easting (metre)\n",
       "- N[north]: Northing (metre)\n",
       "Area of Use:\n",
       "- name: Between 72°W and 66°W, southern hemisphere between 80°S and equator, onshore and offshore. Argentina. Bolivia. Brazil. Chile. Colombia. Peru.\n",
       "- bounds: (-72.0, -80.0, -66.0, 0.0)\n",
       "Coordinate Operation:\n",
       "- name: UTM zone 19S\n",
       "- method: Transverse Mercator\n",
       "Datum: World Geodetic System 1984 ensemble\n",
       "- Ellipsoid: WGS 84\n",
       "- Prime Meridian: Greenwich"
      ]
     },
     "execution_count": 17,
     "metadata": {},
     "output_type": "execute_result"
    }
   ],
   "source": [
    "shp_merge.crs"
   ]
  }
 ],
 "metadata": {
  "kernelspec": {
   "display_name": "Python 3 (ipykernel)",
   "language": "python",
   "name": "python3"
  },
  "language_info": {
   "codemirror_mode": {
    "name": "ipython",
    "version": 3
   },
   "file_extension": ".py",
   "mimetype": "text/x-python",
   "name": "python",
   "nbconvert_exporter": "python",
   "pygments_lexer": "ipython3",
   "version": "3.8.15"
  }
 },
 "nbformat": 4,
 "nbformat_minor": 5
}
