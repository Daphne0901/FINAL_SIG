{
 "cells": [
  {
   "cell_type": "code",
   "execution_count": 7,
   "metadata": {},
   "outputs": [],
   "source": [
    "import arcpy\n",
    "import matplotlib.pyplot as plt"
   ]
  },
  {
   "cell_type": "code",
   "execution_count": 17,
   "metadata": {},
   "outputs": [],
   "source": [
    "import geopandas as gpd"
   ]
  },
  {
   "cell_type": "code",
   "execution_count": 18,
   "metadata": {},
   "outputs": [],
   "source": [
    "#colocando ruta del shapefile que queremos abrir, inserte su propia ruta\n",
    "shp_CUENCAS=r\"C:\\Users\\Micaela\\Documents\\SIG2022\\UniHidroMen_ANA_geogpsperu\\UniHidroMen_ANA_geogpsperu.shp\""
   ]
  },
  {
   "cell_type": "code",
   "execution_count": 19,
   "metadata": {},
   "outputs": [],
   "source": [
    "#leer el shapefile con geopandas para poder hacer el ploteo\n",
    "data_cuencas=gpd.read_file(shp_CUENCAS)"
   ]
  },
  {
   "cell_type": "code",
   "execution_count": 20,
   "metadata": {},
   "outputs": [
    {
     "data": {
      "text/html": [
       "<div>\n",
       "<style scoped>\n",
       "    .dataframe tbody tr th:only-of-type {\n",
       "        vertical-align: middle;\n",
       "    }\n",
       "\n",
       "    .dataframe tbody tr th {\n",
       "        vertical-align: top;\n",
       "    }\n",
       "\n",
       "    .dataframe thead th {\n",
       "        text-align: right;\n",
       "    }\n",
       "</style>\n",
       "<table border=\"1\" class=\"dataframe\">\n",
       "  <thead>\n",
       "    <tr style=\"text-align: right;\">\n",
       "      <th></th>\n",
       "      <th>ID</th>\n",
       "      <th>NIVEL1</th>\n",
       "      <th>NIVEL2</th>\n",
       "      <th>NIVEL3</th>\n",
       "      <th>NIVEL4</th>\n",
       "      <th>NIVEL5</th>\n",
       "      <th>NIVEL6</th>\n",
       "      <th>NIVEL7</th>\n",
       "      <th>NIVEL8</th>\n",
       "      <th>NOMB_UH_N1</th>\n",
       "      <th>NOMB_UH_N2</th>\n",
       "      <th>NOMB_UH_N3</th>\n",
       "      <th>NOMB_UH_N4</th>\n",
       "      <th>NOMB_UH_N5</th>\n",
       "      <th>NOMB_UH_N6</th>\n",
       "      <th>NOMB_UH_N7</th>\n",
       "      <th>NOMB_UH_N8</th>\n",
       "      <th>AREA_KM2</th>\n",
       "      <th>AREA_FINAL</th>\n",
       "      <th>NIVEL</th>\n",
       "      <th>IMPAR</th>\n",
       "      <th>last</th>\n",
       "      <th>Nombre_UH</th>\n",
       "      <th>CODIGO</th>\n",
       "      <th>AREALBERS</th>\n",
       "      <th>Area</th>\n",
       "      <th>DESCARGAR</th>\n",
       "      <th>geometry</th>\n",
       "    </tr>\n",
       "  </thead>\n",
       "  <tbody>\n",
       "    <tr>\n",
       "      <td>0</td>\n",
       "      <td>1</td>\n",
       "      <td>1</td>\n",
       "      <td>13</td>\n",
       "      <td>131</td>\n",
       "      <td>1315</td>\n",
       "      <td>13153</td>\n",
       "      <td>131533</td>\n",
       "      <td>None</td>\n",
       "      <td>None</td>\n",
       "      <td>Region Hidrografica del Pacifico</td>\n",
       "      <td>Unidad Hidrografica 13</td>\n",
       "      <td>Unidad Hidrografica 131</td>\n",
       "      <td>Unidad Hidrografica 1315</td>\n",
       "      <td>Unidad Hidrografica 13153</td>\n",
       "      <td>Unidad Hidrografica 131533</td>\n",
       "      <td>None</td>\n",
       "      <td>None</td>\n",
       "      <td>0.5091</td>\n",
       "      <td>0.5064</td>\n",
       "      <td>6</td>\n",
       "      <td>1</td>\n",
       "      <td>3</td>\n",
       "      <td>Unidad Hidrografica 131533</td>\n",
       "      <td>131533</td>\n",
       "      <td>0.51</td>\n",
       "      <td>0.51</td>\n",
       "      <td>www.geogpsperu.com</td>\n",
       "      <td>POLYGON ((-70.38592 -18.34265, -70.38641 -18.3...</td>\n",
       "    </tr>\n",
       "    <tr>\n",
       "      <td>1</td>\n",
       "      <td>2</td>\n",
       "      <td>1</td>\n",
       "      <td>13</td>\n",
       "      <td>131</td>\n",
       "      <td>1315</td>\n",
       "      <td>13153</td>\n",
       "      <td>131531</td>\n",
       "      <td>None</td>\n",
       "      <td>None</td>\n",
       "      <td>Region Hidrografica del Pacifico</td>\n",
       "      <td>Unidad Hidrografica 13</td>\n",
       "      <td>Unidad Hidrografica 131</td>\n",
       "      <td>Unidad Hidrografica 1315</td>\n",
       "      <td>Unidad Hidrografica 13153</td>\n",
       "      <td>Unidad Hidrografica 131531</td>\n",
       "      <td>None</td>\n",
       "      <td>None</td>\n",
       "      <td>3.9661</td>\n",
       "      <td>3.9451</td>\n",
       "      <td>6</td>\n",
       "      <td>1</td>\n",
       "      <td>1</td>\n",
       "      <td>Unidad Hidrografica 131531</td>\n",
       "      <td>131531</td>\n",
       "      <td>3.97</td>\n",
       "      <td>3.97</td>\n",
       "      <td>www.geogpsperu.com</td>\n",
       "      <td>POLYGON ((-70.21262 -18.30285, -70.21333 -18.3...</td>\n",
       "    </tr>\n",
       "    <tr>\n",
       "      <td>2</td>\n",
       "      <td>1100</td>\n",
       "      <td>1</td>\n",
       "      <td>13</td>\n",
       "      <td>131</td>\n",
       "      <td>1315</td>\n",
       "      <td>13153</td>\n",
       "      <td>131539</td>\n",
       "      <td>None</td>\n",
       "      <td>None</td>\n",
       "      <td>Region Hidrografica del Pacifico</td>\n",
       "      <td>Unidad Hidrografica 13</td>\n",
       "      <td>Unidad Hidrografica 131</td>\n",
       "      <td>Unidad Hidrografica 1315</td>\n",
       "      <td>Unidad Hidrografica 13153</td>\n",
       "      <td>Unidad Hidrografica 131539</td>\n",
       "      <td>None</td>\n",
       "      <td>None</td>\n",
       "      <td>13.4937</td>\n",
       "      <td>13.4221</td>\n",
       "      <td>6</td>\n",
       "      <td>1</td>\n",
       "      <td>9</td>\n",
       "      <td>Unidad Hidrografica 131539</td>\n",
       "      <td>131539</td>\n",
       "      <td>13.50</td>\n",
       "      <td>13.49</td>\n",
       "      <td>www.geogpsperu.com</td>\n",
       "      <td>POLYGON ((-70.41212 -18.32145, -70.41308 -18.3...</td>\n",
       "    </tr>\n",
       "    <tr>\n",
       "      <td>3</td>\n",
       "      <td>3</td>\n",
       "      <td>1</td>\n",
       "      <td>13</td>\n",
       "      <td>131</td>\n",
       "      <td>1315</td>\n",
       "      <td>13157</td>\n",
       "      <td>131573</td>\n",
       "      <td>None</td>\n",
       "      <td>None</td>\n",
       "      <td>Region Hidrografica del Pacifico</td>\n",
       "      <td>Unidad Hidrografica 13</td>\n",
       "      <td>Unidad Hidrografica 131</td>\n",
       "      <td>Unidad Hidrografica 1315</td>\n",
       "      <td>Unidad Hidrografica 13157</td>\n",
       "      <td>Unidad Hidrografica 131573</td>\n",
       "      <td>None</td>\n",
       "      <td>None</td>\n",
       "      <td>0.8010</td>\n",
       "      <td>0.7967</td>\n",
       "      <td>6</td>\n",
       "      <td>1</td>\n",
       "      <td>3</td>\n",
       "      <td>Unidad Hidrografica 131573</td>\n",
       "      <td>131573</td>\n",
       "      <td>0.80</td>\n",
       "      <td>0.80</td>\n",
       "      <td>www.geogpsperu.com</td>\n",
       "      <td>POLYGON ((-70.55493 -18.22918, -70.55603 -18.2...</td>\n",
       "    </tr>\n",
       "    <tr>\n",
       "      <td>4</td>\n",
       "      <td>4</td>\n",
       "      <td>1</td>\n",
       "      <td>13</td>\n",
       "      <td>131</td>\n",
       "      <td>1315</td>\n",
       "      <td>13153</td>\n",
       "      <td>131536</td>\n",
       "      <td>None</td>\n",
       "      <td>None</td>\n",
       "      <td>Region Hidrografica del Pacifico</td>\n",
       "      <td>Unidad Hidrografica 13</td>\n",
       "      <td>Unidad Hidrografica 131</td>\n",
       "      <td>Unidad Hidrografica 1315</td>\n",
       "      <td>Unidad Hidrografica 13153</td>\n",
       "      <td>Unidad Hidrografica 131536</td>\n",
       "      <td>None</td>\n",
       "      <td>None</td>\n",
       "      <td>19.4490</td>\n",
       "      <td>19.3458</td>\n",
       "      <td>6</td>\n",
       "      <td>0</td>\n",
       "      <td>6</td>\n",
       "      <td>Cuenca Unidad Hidrografica 131536</td>\n",
       "      <td>131536</td>\n",
       "      <td>19.45</td>\n",
       "      <td>19.45</td>\n",
       "      <td>www.geogpsperu.com</td>\n",
       "      <td>POLYGON ((-70.41210 -18.32146, -70.41212 -18.3...</td>\n",
       "    </tr>\n",
       "  </tbody>\n",
       "</table>\n",
       "</div>"
      ],
      "text/plain": [
       "     ID  ...                                           geometry\n",
       "0     1  ...  POLYGON ((-70.38592 -18.34265, -70.38641 -18.3...\n",
       "1     2  ...  POLYGON ((-70.21262 -18.30285, -70.21333 -18.3...\n",
       "2  1100  ...  POLYGON ((-70.41212 -18.32145, -70.41308 -18.3...\n",
       "3     3  ...  POLYGON ((-70.55493 -18.22918, -70.55603 -18.2...\n",
       "4     4  ...  POLYGON ((-70.41210 -18.32146, -70.41212 -18.3...\n",
       "\n",
       "[5 rows x 28 columns]"
      ]
     },
     "execution_count": 20,
     "metadata": {},
     "output_type": "execute_result"
    }
   ],
   "source": [
    "#OBSERVACIÓN A SU TABLA DE ATRIBUTOS\n",
    "data_cuencas.head(5)"
   ]
  },
  {
   "cell_type": "code",
   "execution_count": 21,
   "metadata": {},
   "outputs": [
    {
     "data": {
      "text/plain": [
       "RangeIndex(start=0, stop=1268, step=1)"
      ]
     },
     "execution_count": 21,
     "metadata": {},
     "output_type": "execute_result"
    }
   ],
   "source": [
    "#VERIFICANDO CÓMO ES EL INDEX\n",
    "data_cuencas.index"
   ]
  },
  {
   "cell_type": "code",
   "execution_count": 22,
   "metadata": {},
   "outputs": [
    {
     "data": {
      "text/plain": [
       "ID                                                           27\n",
       "NIVEL1                                                        1\n",
       "NIVEL2                                                       13\n",
       "NIVEL3                                                      131\n",
       "NIVEL4                                                     1315\n",
       "NIVEL5                                                    13156\n",
       "NIVEL6                                                     None\n",
       "NIVEL7                                                     None\n",
       "NIVEL8                                                     None\n",
       "NOMB_UH_N1                     Region Hidrografica del Pacifico\n",
       "NOMB_UH_N2                               Unidad Hidrografica 13\n",
       "NOMB_UH_N3                              Unidad Hidrografica 131\n",
       "NOMB_UH_N4                             Unidad Hidrografica 1315\n",
       "NOMB_UH_N5                                              Caplina\n",
       "NOMB_UH_N6                                                 None\n",
       "NOMB_UH_N7                                                 None\n",
       "NOMB_UH_N8                                                 None\n",
       "AREA_KM2                                                913.754\n",
       "AREA_FINAL                                              908.904\n",
       "NIVEL                                                         5\n",
       "IMPAR                                                         0\n",
       "last                                                          6\n",
       "Nombre_UH                                        Cuenca Caplina\n",
       "CODIGO                                                    13156\n",
       "AREALBERS                                                914.21\n",
       "Area                                                     913.75\n",
       "DESCARGAR                                    www.geogpsperu.com\n",
       "geometry      POLYGON ((-69.79662443099994 -17.6355176199999...\n",
       "Name: 32, dtype: object"
      ]
     },
     "execution_count": 22,
     "metadata": {},
     "output_type": "execute_result"
    }
   ],
   "source": [
    "#SELECCIONANDO LA CUENCA DE INTERÉS\n",
    "data_cuencas.loc[32]"
   ]
  },
  {
   "cell_type": "code",
   "execution_count": 23,
   "metadata": {},
   "outputs": [],
   "source": [
    "#ASIGNANDO UAN VARIABLE A LA CUENCA DE INTERÉS PARA PODER EXPORTARLO COMO OTRO SHAPE\n",
    "CAPLINA=gpd.GeoDataFrame([data_cuencas.loc[32]], crs=data_cuencas.crs)"
   ]
  },
  {
   "cell_type": "code",
   "execution_count": 24,
   "metadata": {},
   "outputs": [],
   "source": [
    "#GUARDANDO EL SHAPEFILE\n",
    "CAPLINA.to_file(\"CAPLINA\")"
   ]
  },
  {
   "cell_type": "code",
   "execution_count": 25,
   "metadata": {},
   "outputs": [],
   "source": [
    "#ASIGNANDO COORDENADAS CORRECTAS\n",
    "CAPLINA=CAPLINA.to_crs(\"EPSG:32719\")"
   ]
  },
  {
   "cell_type": "code",
   "execution_count": 26,
   "metadata": {},
   "outputs": [],
   "source": [
    "#DEFINIENDO INPUTS PARA PDOER HACER EL CLIP\n",
    "curvas=r\"C:\\Users\\Micaela\\Documents\\SIG2022\\PREG2_EXFINAL\\CURVAS_CAPLINA-20230116T033025Z-001\\CURVAS_CAPLINA\\Curvas_Caplina.shp\"\n",
    "cuenca_caplina=r\"C:\\Users\\Micaela\\Documents\\SIG2022\\GEOPROCESAMIENTO\\CAPLINA\\CAPLINA.shp\""
   ]
  },
  {
   "cell_type": "code",
   "execution_count": 28,
   "metadata": {},
   "outputs": [],
   "source": [
    "#CONVIRTIENDO A FEATURE LAYER\n",
    "curvas=arcpy.MakeFeatureLayer_management(curvas, \"merge_curvas_cartas\")\n",
    "cuenca=arcpy.MakeFeatureLayer_management(cuenca_caplina, \"c_de_caplina\")"
   ]
  },
  {
   "cell_type": "code",
   "execution_count": 29,
   "metadata": {},
   "outputs": [
    {
     "data": {
      "text/plain": [
       "<Result 'C:\\\\Users\\\\Micaela\\\\Documents\\\\SIG2022\\\\GEOPROCESAMIENTO\\\\curvas_caplina_clip2.shp'>"
      ]
     },
     "execution_count": 29,
     "metadata": {},
     "output_type": "execute_result"
    }
   ],
   "source": [
    "#REALIZANDO CLIP\n",
    "dir_clip=r\"C:\\Users\\Micaela\\Documents\\SIG2022\\GEOPROCESAMIENTO\\curvas_caplina_clip2.shp\"\n",
    "arcpy.analysis.Clip(curvas, cuenca, dir_clip)"
   ]
  },
  {
   "cell_type": "code",
   "execution_count": 30,
   "metadata": {},
   "outputs": [],
   "source": [
    "#ASIGNANDO COORDENADAS PARA EL TIN\n",
    "sp_ref=arcpy.Describe(dir_clip).SpatialReference"
   ]
  },
  {
   "cell_type": "code",
   "execution_count": 31,
   "metadata": {},
   "outputs": [
    {
     "data": {
      "text/plain": [
       "<Result 'C:\\\\Users\\\\Micaela\\\\Documents\\\\ArcGIS\\\\Projects\\\\MyProject4\\\\TIN_DE_CAPLINA'>"
      ]
     },
     "execution_count": 31,
     "metadata": {},
     "output_type": "execute_result"
    }
   ],
   "source": [
    "#REALIZANDO TIN\n",
    "OutputTin=\"TIN_DE_CAPLINA\"\n",
    "arcpy.ddd.CreateTin(OutputTin, sp_ref, \"curvas_caplina_clip2 Z Mass_Points <None>\", \"DELAUNAY\")"
   ]
  },
  {
   "cell_type": "code",
   "execution_count": null,
   "metadata": {},
   "outputs": [],
   "source": []
  }
 ],
 "metadata": {
  "kernelspec": {
   "display_name": "Python 3 (ipykernel)",
   "language": "python",
   "name": "python3"
  },
  "language_info": {
   "codemirror_mode": {
    "name": "ipython",
    "version": 3
   },
   "file_extension": ".py",
   "mimetype": "text/x-python",
   "name": "python",
   "nbconvert_exporter": "python",
   "pygments_lexer": "ipython3",
   "version": "3.9.13"
  }
 },
 "nbformat": 4,
 "nbformat_minor": 2
}
